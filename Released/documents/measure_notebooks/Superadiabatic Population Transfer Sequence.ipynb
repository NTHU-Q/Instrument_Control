{
 "cells": [
  {
   "cell_type": "code",
   "execution_count": 1,
   "metadata": {},
   "outputs": [],
   "source": [
    "import os\n",
    "import sys\n",
    "import pprint as pp\n",
    "import numpy as np\n",
    "import matplotlib.pyplot as plt\n",
    "\n",
    "# set the main directory to import qel instruments drivers\n",
    "sys.path.append(os.getcwd().replace('\\\\documents\\\\measure_notebooks',''))\n",
    "from instruments.Tektronix_AWG5208.TektronixAWG_core import Tektronix_AWG5208\n",
    "from instruments.Tektronix_AWG5208.TektronixAWG_sequenceEditor import Time_Domain_Sequence\n",
    "from instruments.Tektronix_AWG5208.plot_tools import *"
   ]
  },
  {
   "cell_type": "code",
   "execution_count": 2,
   "metadata": {},
   "outputs": [],
   "source": [
    "spt = Time_Domain_Sequence()\n",
    "\n",
    "\n",
    "gen_wfm_amount = 10\n",
    "wfm_totlen = 10000*2\n",
    "gauss_sig = 100\n",
    "\n",
    "qb_t_tsdelta = gauss_sig * 10\n",
    "\n",
    "qb_f12mkr_duration = 0\n",
    "qb_f12mkr_tone = 'no_mkr'\n",
    "\n",
    "qb_f01mkr_duration = 0\n",
    "qb_f01mkr_tone = 'no_mkr'\n",
    "\n",
    "rd_offset = 7000*2\n",
    "rd_flat = 3000\n",
    "rd_mkr_duration = 1000\n",
    "rd_mkr_tone = 'mkr1'\n",
    "\n",
    "\n",
    "store_SPT_seq = {}\n",
    "\n",
    "store_SPT_seq = spt.gen_SPT_seq(gen_wfm_amount, wfm_totlen,\n",
    "                    gauss_sig,\n",
    "                    qb_f12mkr_duration, qb_f12mkr_tone,\n",
    "                    qb_t_tsdelta,\n",
    "                    qb_f01mkr_duration, qb_f01mkr_tone,\n",
    "                    rd_offset, rd_flat, rd_mkr_duration,\n",
    "                    rd_mkr_tone)\n",
    "\n",
    "\n",
    "\n",
    "\n",
    "seq_name = 'SPT_sequence'\n",
    "store_time_domain_seq = store_SPT_seq\n",
    "# pp.pprint(store_time_domain_seq)\n",
    "# step_select = 2\n",
    "#plt_qb_rd(seq_name, step_select, store_time_domain_seq)"
   ]
  },
  {
   "cell_type": "code",
   "execution_count": 3,
   "metadata": {},
   "outputs": [
    {
     "name": "stdout",
     "output_type": "stream",
     "text": [
      "Connect to Tektronix_AWG5208 successfully\n",
      "Statement: TEKTRONIX,AWG5208,B030598,FV:6.6.0131.0\n"
     ]
    }
   ],
   "source": [
    "inst_name = 'Tektronix_AWG5208'\n",
    "inst_address = 'TCPIP0::192.168.20.43::inst0::INSTR'\n",
    "timeout = 10\n",
    "Clean_Option = True\n",
    "sample_rate = 1E9\n",
    "ref_ext = 10E6\n",
    "\n",
    "# initialize AWG settings\n",
    "awgClient = Tektronix_AWG5208(inst_name, inst_address, timeout)\n",
    "awgClient.connect()\n",
    "if Clean_Option:awgClient.del_wlist();awgClient.del_slist()\n",
    "awgClient.set_channel_mkr(0,1,0,0,0,0,0,0)\n",
    "awgClient.set_sample_rate(sample_rate)\n",
    "awgClient.set_extref_source(ref_ext)"
   ]
  },
  {
   "cell_type": "code",
   "execution_count": 4,
   "metadata": {},
   "outputs": [
    {
     "name": "stdout",
     "output_type": "stream",
     "text": [
      "The transfer mission is completed.\n"
     ]
    }
   ],
   "source": [
    "seq_name = 'SPT_Sequence'\n",
    "track_assign_order = list(store_time_domain_seq.keys())\n",
    "\n",
    "awgClient.set_sequential_assign_wfm2seqtable(\n",
    "    seq_name,\n",
    "    track_assign_order,\n",
    "    store_time_domain_seq)"
   ]
  },
  {
   "cell_type": "code",
   "execution_count": 5,
   "metadata": {},
   "outputs": [],
   "source": [
    "channel_qb_f12 = 1\n",
    "seq_track_for_qubitDrive_f12 = 1\n",
    "channel_rd = 2\n",
    "seq_track_for_readOut = 2\n",
    "channel_qb_f01 = 3\n",
    "seq_track_for_qubitDrive_f01 = 3\n",
    "awgClient.load_seq_to_channel(channel_qb_f12, seq_name, seq_track_for_qubitDrive_f12)\n",
    "awgClient.load_seq_to_channel(channel_rd, seq_name, seq_track_for_readOut)\n",
    "awgClient.load_seq_to_channel(channel_qb_f01, seq_name, seq_track_for_qubitDrive_f01)"
   ]
  },
  {
   "cell_type": "code",
   "execution_count": 6,
   "metadata": {},
   "outputs": [
    {
     "name": "stdout",
     "output_type": "stream",
     "text": [
      "Tektronix_AWG5208 has been disconnected by user.\n"
     ]
    }
   ],
   "source": [
    "# disconnect the awg\n",
    "awgClient.disconnect()"
   ]
  }
 ],
 "metadata": {
  "kernelspec": {
   "display_name": "Python 3",
   "language": "python",
   "name": "python3"
  },
  "language_info": {
   "codemirror_mode": {
    "name": "ipython",
    "version": 3
   },
   "file_extension": ".py",
   "mimetype": "text/x-python",
   "name": "python",
   "nbconvert_exporter": "python",
   "pygments_lexer": "ipython3",
   "version": "3.8.3"
  }
 },
 "nbformat": 4,
 "nbformat_minor": 4
}
