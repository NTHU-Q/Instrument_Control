{
 "cells": [
  {
   "cell_type": "code",
   "execution_count": 1,
   "metadata": {},
   "outputs": [],
   "source": [
    "import os\n",
    "import sys\n",
    "import pprint as pp\n",
    "import numpy as np\n",
    "import matplotlib.pyplot as plt\n",
    "\n",
    "# set the main directory to import qel instruments drivers\n",
    "sys.path.append(os.getcwd().replace('\\\\documents\\\\measure_notebooks',''))\n",
    "from instruments.Tektronix_AWG5208.TektronixAWG_core import Tektronix_AWG5208\n",
    "from instruments.Tektronix_AWG5208.TektronixAWG_sequenceEditor import Time_Domain_Sequence\n",
    "from instruments.Tektronix_AWG5208.plot_tools import *"
   ]
  },
  {
   "cell_type": "code",
   "execution_count": 2,
   "metadata": {},
   "outputs": [],
   "source": [
    "apt_DarkState_Coherence = Time_Domain_Sequence()\n",
    "\n",
    "gen_wfm_amount = 10\n",
    "wfm_totlen = 10000*2\n",
    "gauss_sig = 100\n",
    "\n",
    "qb_t_tsdelta = gauss_sig * 3\n",
    "qb_f12_relaxation_delta = 100\n",
    "\n",
    "qb_f12mkr_duration = 0\n",
    "qb_f12mkr_tone = 'no_mkr'\n",
    "\n",
    "qb_f01mkr_duration = 0\n",
    "qb_f01mkr_tone = 'no_mkr'\n",
    "\n",
    "rd_offset = 7000*2\n",
    "rd_flat = 3000\n",
    "rd_mkr_duration = 1000\n",
    "rd_mkr_tone = 'mkr1'\n",
    "\n",
    "\n",
    "store_apt_DarkState_Coherence = {}\n",
    "\n",
    "\n",
    "store_apt_DarkState_Coherence = apt_DarkState_Coherence.gen_APT_DarkState_Coherence_Ramsey_seq(gen_wfm_amount, wfm_totlen, gauss_sig,\n",
    "                   qb_f12mkr_duration, qb_f12mkr_tone,\n",
    "                   qb_t_tsdelta, qb_f12_relaxation_delta,\n",
    "                   qb_f01mkr_duration, qb_f01mkr_tone,\n",
    "                   rd_offset, rd_flat, rd_mkr_duration,\n",
    "                   rd_mkr_tone)\n",
    "\n",
    "\n",
    "seq_name = 'APT_DarkState_Coherence_Sequence_Ramsey'\n",
    "store_time_domain_seq = store_apt_DarkState_Coherence\n",
    "# pp.pprint(store_time_domain_seq)\n",
    "# step_select = 2\n",
    "#plt_qb_rd(seq_name, step_select, store_time_domain_seq)"
   ]
  },
  {
   "cell_type": "code",
   "execution_count": 3,
   "metadata": {},
   "outputs": [
    {
     "name": "stdout",
     "output_type": "stream",
     "text": [
      "Check \"Tektronix_AWG5208\" has been plugin your PC\n"
     ]
    },
    {
     "ename": "AttributeError",
     "evalue": "'Tektronix_AWG5208' object has no attribute 'inst'",
     "output_type": "error",
     "traceback": [
      "\u001b[1;31m---------------------------------------------------------------------------\u001b[0m",
      "\u001b[1;31mAttributeError\u001b[0m                            Traceback (most recent call last)",
      "\u001b[1;32m<ipython-input-3-cf93e5ef218f>\u001b[0m in \u001b[0;36m<module>\u001b[1;34m\u001b[0m\n\u001b[0;32m      9\u001b[0m \u001b[0mawgClient\u001b[0m \u001b[1;33m=\u001b[0m \u001b[0mTektronix_AWG5208\u001b[0m\u001b[1;33m(\u001b[0m\u001b[0minst_name\u001b[0m\u001b[1;33m,\u001b[0m \u001b[0minst_address\u001b[0m\u001b[1;33m,\u001b[0m \u001b[0mtimeout\u001b[0m\u001b[1;33m)\u001b[0m\u001b[1;33m\u001b[0m\u001b[1;33m\u001b[0m\u001b[0m\n\u001b[0;32m     10\u001b[0m \u001b[0mawgClient\u001b[0m\u001b[1;33m.\u001b[0m\u001b[0mconnect\u001b[0m\u001b[1;33m(\u001b[0m\u001b[1;33m)\u001b[0m\u001b[1;33m\u001b[0m\u001b[1;33m\u001b[0m\u001b[0m\n\u001b[1;32m---> 11\u001b[1;33m \u001b[1;32mif\u001b[0m \u001b[0mClean_Option\u001b[0m\u001b[1;33m:\u001b[0m\u001b[0mawgClient\u001b[0m\u001b[1;33m.\u001b[0m\u001b[0mdel_wlist\u001b[0m\u001b[1;33m(\u001b[0m\u001b[1;33m)\u001b[0m\u001b[1;33m;\u001b[0m\u001b[0mawgClient\u001b[0m\u001b[1;33m.\u001b[0m\u001b[0mdel_slist\u001b[0m\u001b[1;33m(\u001b[0m\u001b[1;33m)\u001b[0m\u001b[1;33m\u001b[0m\u001b[1;33m\u001b[0m\u001b[0m\n\u001b[0m\u001b[0;32m     12\u001b[0m \u001b[0mawgClient\u001b[0m\u001b[1;33m.\u001b[0m\u001b[0mset_channel_mkr\u001b[0m\u001b[1;33m(\u001b[0m\u001b[1;36m0\u001b[0m\u001b[1;33m,\u001b[0m\u001b[1;36m1\u001b[0m\u001b[1;33m,\u001b[0m\u001b[1;36m0\u001b[0m\u001b[1;33m,\u001b[0m\u001b[1;36m0\u001b[0m\u001b[1;33m,\u001b[0m\u001b[1;36m0\u001b[0m\u001b[1;33m,\u001b[0m\u001b[1;36m0\u001b[0m\u001b[1;33m,\u001b[0m\u001b[1;36m0\u001b[0m\u001b[1;33m,\u001b[0m\u001b[1;36m0\u001b[0m\u001b[1;33m)\u001b[0m\u001b[1;33m\u001b[0m\u001b[1;33m\u001b[0m\u001b[0m\n\u001b[0;32m     13\u001b[0m \u001b[0mawgClient\u001b[0m\u001b[1;33m.\u001b[0m\u001b[0mset_sample_rate\u001b[0m\u001b[1;33m(\u001b[0m\u001b[0msample_rate\u001b[0m\u001b[1;33m)\u001b[0m\u001b[1;33m\u001b[0m\u001b[1;33m\u001b[0m\u001b[0m\n",
      "\u001b[1;32m~\\Documents\\GitHub\\Quantum_Protocols\\Released\\instruments\\Tektronix_AWG5208\\TektronixAWG_core.py\u001b[0m in \u001b[0;36mdel_wlist\u001b[1;34m(self)\u001b[0m\n\u001b[0;32m    391\u001b[0m         \u001b[0mmarked\u001b[0m\u001b[1;33m\u001b[0m\u001b[1;33m\u001b[0m\u001b[0m\n\u001b[0;32m    392\u001b[0m         \"\"\"\n\u001b[1;32m--> 393\u001b[1;33m         \u001b[0mself\u001b[0m\u001b[1;33m.\u001b[0m\u001b[0minst\u001b[0m\u001b[1;33m.\u001b[0m\u001b[0mwrite\u001b[0m\u001b[1;33m(\u001b[0m\u001b[1;34m'WLISt:WAVeform:DELete ALL'\u001b[0m\u001b[1;33m)\u001b[0m\u001b[1;33m\u001b[0m\u001b[1;33m\u001b[0m\u001b[0m\n\u001b[0m\u001b[0;32m    394\u001b[0m \u001b[1;33m\u001b[0m\u001b[0m\n\u001b[0;32m    395\u001b[0m     \u001b[1;32mdef\u001b[0m \u001b[0mdel_slist\u001b[0m\u001b[1;33m(\u001b[0m\u001b[0mself\u001b[0m\u001b[1;33m)\u001b[0m\u001b[1;33m:\u001b[0m\u001b[1;33m\u001b[0m\u001b[1;33m\u001b[0m\u001b[0m\n",
      "\u001b[1;31mAttributeError\u001b[0m: 'Tektronix_AWG5208' object has no attribute 'inst'"
     ]
    }
   ],
   "source": [
    "inst_name = 'Tektronix_AWG5208'\n",
    "inst_address = 'TCPIP0::192.168.20.43::inst0::INSTR'\n",
    "timeout = 10\n",
    "Clean_Option = True\n",
    "sample_rate = 1E9\n",
    "ref_ext = 10E6\n",
    "\n",
    "# initialize AWG settings\n",
    "awgClient = Tektronix_AWG5208(inst_name, inst_address, timeout)\n",
    "awgClient.connect()\n",
    "if Clean_Option:awgClient.del_wlist();awgClient.del_slist()\n",
    "awgClient.set_channel_mkr(0,1,0,0,0,0,0,0)\n",
    "awgClient.set_sample_rate(sample_rate)\n",
    "awgClient.set_extref_source(ref_ext)"
   ]
  },
  {
   "cell_type": "code",
   "execution_count": null,
   "metadata": {},
   "outputs": [],
   "source": [
    "seq_name = 'APT_DarkState_Coherence_Sequence_Ramsey'\n",
    "track_assign_order = list(store_time_domain_seq.keys())\n",
    "\n",
    "awgClient.set_sequential_assign_wfm2seqtable(\n",
    "    seq_name,\n",
    "    track_assign_order,\n",
    "    store_time_domain_seq)"
   ]
  },
  {
   "cell_type": "code",
   "execution_count": null,
   "metadata": {},
   "outputs": [],
   "source": [
    "channel_qb_f12 = 1\n",
    "seq_track_for_qubitDrive_f12 = 1\n",
    "channel_rd = 2\n",
    "seq_track_for_readOut = 2\n",
    "channel_qb_f01 = 3\n",
    "seq_track_for_qubitDrive_f01 = 3\n",
    "awgClient.load_seq_to_channel(channel_qb_f12, seq_name, seq_track_for_qubitDrive_f12)\n",
    "awgClient.load_seq_to_channel(channel_rd, seq_name, seq_track_for_readOut)\n",
    "awgClient.load_seq_to_channel(channel_qb_f01, seq_name, seq_track_for_qubitDrive_f01)"
   ]
  },
  {
   "cell_type": "code",
   "execution_count": null,
   "metadata": {},
   "outputs": [],
   "source": [
    "# disconnect the awg\n",
    "awgClient.disconnect()"
   ]
  }
 ],
 "metadata": {
  "kernelspec": {
   "display_name": "Python 3",
   "language": "python",
   "name": "python3"
  },
  "language_info": {
   "codemirror_mode": {
    "name": "ipython",
    "version": 3
   },
   "file_extension": ".py",
   "mimetype": "text/x-python",
   "name": "python",
   "nbconvert_exporter": "python",
   "pygments_lexer": "ipython3",
   "version": "3.8.3"
  }
 },
 "nbformat": 4,
 "nbformat_minor": 4
}
